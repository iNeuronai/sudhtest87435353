{
 "cells": [
  {
   "cell_type": "code",
   "execution_count": 6,
   "metadata": {},
   "outputs": [
    {
     "name": "stdout",
     "output_type": "stream",
     "text": [
      "[('A', 1, 1), ('A', 2, 2), ('A', 3, 3), ('B', 1, 4), ('B', 2, 5), ('B', 3, 6), ('C', 1, 7), ('C', 2, 8), ('C', 3, 9)]\n"
     ]
    }
   ],
   "source": [
    "import numpy as np\n",
    "from  numpy.random import randn as rn\n",
    "import pandas as pd\n",
    "l1=['A','A','A','B','B','B','C','C','C']\n",
    "l2=[1,2,3,1,2,3,1,2,3]\n",
    "l3=[1,2,3,4,5,6,7,8,9]\n",
    "ind=list(zip(l1,l2,l3))\n",
    "df1=pd.DataFrame(data=np.round(rn(9,4)),columns=['A','B','C','D'])\n",
    "print(ind)\n"
   ]
  },
  {
   "cell_type": "code",
   "execution_count": 2,
   "metadata": {},
   "outputs": [],
   "source": [
    "import numpy as np\n",
    "import numpy.random as rn\n",
    "import pandas as pd\n",
    "l1=['A','A','A','B','B','B','C','C','C']\n",
    "l2=[1,2,3,1,2,3,1,2,3]\n",
    "l3=[1,2,3,4,5,6,7,8,9]\n",
    "ind=list(zip(l1,l2,l3))"
   ]
  },
  {
   "cell_type": "code",
   "execution_count": 3,
   "metadata": {},
   "outputs": [
    {
     "data": {
      "text/plain": [
       "[('A', 1, 1),\n",
       " ('A', 2, 2),\n",
       " ('A', 3, 3),\n",
       " ('B', 1, 4),\n",
       " ('B', 2, 5),\n",
       " ('B', 3, 6),\n",
       " ('C', 1, 7),\n",
       " ('C', 2, 8),\n",
       " ('C', 3, 9)]"
      ]
     },
     "execution_count": 3,
     "metadata": {},
     "output_type": "execute_result"
    }
   ],
   "source": [
    "ind"
   ]
  },
  {
   "cell_type": "code",
   "execution_count": null,
   "metadata": {},
   "outputs": [],
   "source": []
  }
 ],
 "metadata": {
  "kernelspec": {
   "display_name": "Python 3",
   "language": "python",
   "name": "python3"
  },
  "language_info": {
   "codemirror_mode": {
    "name": "ipython",
    "version": 3
   },
   "file_extension": ".py",
   "mimetype": "text/x-python",
   "name": "python",
   "nbconvert_exporter": "python",
   "pygments_lexer": "ipython3",
   "version": "3.7.4"
  }
 },
 "nbformat": 4,
 "nbformat_minor": 2
}
